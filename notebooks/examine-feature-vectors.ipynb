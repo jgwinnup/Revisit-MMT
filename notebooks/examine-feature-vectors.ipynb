{
 "cells": [
  {
   "cell_type": "code",
   "execution_count": 1,
   "id": "070ed536",
   "metadata": {},
   "outputs": [],
   "source": [
    "import numpy as np\n",
    "import torch as t\n",
    "\n",
    "from PIL import Image as im"
   ]
  },
  {
   "cell_type": "code",
   "execution_count": 2,
   "id": "401dccf8",
   "metadata": {},
   "outputs": [],
   "source": [
    "def convert(img, target_type_min, target_type_max, target_type):\n",
    "    imin = img.min()\n",
    "    imax = img.max()\n",
    "\n",
    "    a = (target_type_max - target_type_min) / (imax - imin)\n",
    "    b = target_type_max - a * imax\n",
    "    new_img = (a * img + b).astype(target_type)\n",
    "    return new_img"
   ]
  },
  {
   "cell_type": "code",
   "execution_count": 3,
   "id": "dd7cf844",
   "metadata": {},
   "outputs": [],
   "source": [
    "def visualize_feats(input, verbose=False):\n",
    "    \n",
    "    output = input.reshape(-1, 64)\n",
    "    \n",
    "    # scale to uint8\n",
    "    # output = output / output.max() #normalizes data in range 0 - 255\n",
    "    # output = 255 * output\n",
    "    # img = output.astype(np.uint8)\n",
    "    img = convert(output, 0, 255, np.uint8)\n",
    "    \n",
    "    # debug stats fun\n",
    "    if verbose:\n",
    "        print(f'Input shape: {input.shape}')\n",
    "        print(f'Output shape: {output.shape}')\n",
    "        print(f'Output max {output.max()} min {output.min()}')\n",
    "    \n",
    "    return im.fromarray(img)"
   ]
  },
  {
   "cell_type": "code",
   "execution_count": 4,
   "id": "331ebe1d",
   "metadata": {},
   "outputs": [
    {
     "name": "stdout",
     "output_type": "stream",
     "text": [
      "/tmpssd/dev/revisit-mmt/notebooks\r\n"
     ]
    }
   ],
   "source": [
    "!pwd"
   ]
  },
  {
   "cell_type": "code",
   "execution_count": 5,
   "id": "22919a74",
   "metadata": {},
   "outputs": [
    {
     "name": "stdout",
     "output_type": "stream",
     "text": [
      "Read 29000 lines\n"
     ]
    }
   ],
   "source": [
    "# Load English ref\n",
    "with open('../data/multi30k-en-de/train.en') as file:\n",
    "    train_en = [line.rstrip() for line in file]\n",
    "\n",
    "print(f'Read {len(train_en)} lines')"
   ]
  },
  {
   "cell_type": "code",
   "execution_count": 6,
   "id": "48a1ce68",
   "metadata": {
    "scrolled": true
   },
   "outputs": [
    {
     "name": "stdout",
     "output_type": "stream",
     "text": [
      "Shape: (32475, 2048)\n"
     ]
    }
   ],
   "source": [
    "# Load visual features\n",
    "# vis feats in one file, so multi30k train is 1-29000, val, test sets follow\n",
    "\n",
    "base_res50_feats = np.load('../features/resnet50-avgpool.npy')\n",
    "print(f'Shape: {base_res50_feats.shape}')"
   ]
  },
  {
   "cell_type": "code",
   "execution_count": 7,
   "id": "4be86ff5",
   "metadata": {},
   "outputs": [
    {
     "name": "stdout",
     "output_type": "stream",
     "text": [
      "Input shape: (2048,)\n",
      "Output shape: (32, 64)\n",
      "Output max 3.833984375 min 0.0\n"
     ]
    },
    {
     "data": {
      "image/png": "[encoded data removed]",
      "text/plain": [
       "<PIL.Image.Image image mode=L size=64x32>"
      ]
     },
     "execution_count": 7,
     "metadata": {},
     "output_type": "execute_result"
    }
   ],
   "source": [
    "test = visualize_feats(base_res50_feats[0], verbose=True)\n",
    "test"
   ]
  },
  {
   "cell_type": "code",
   "execution_count": 19,
   "id": "460d7100",
   "metadata": {},
   "outputs": [],
   "source": [
    "# scale_test = test.thumbnail( (512,512) ) # method takes a tuple\n",
    "scale_test = test.resize( (512, 256), resample=im.NEAREST ) # method takes a tuple"
   ]
  },
  {
   "cell_type": "code",
   "execution_count": 20,
   "id": "41ce1e22",
   "metadata": {},
   "outputs": [
    {
     "data": {
      "text/plain": [
       "PIL.Image.Image"
      ]
     },
     "execution_count": 20,
     "metadata": {},
     "output_type": "execute_result"
    }
   ],
   "source": [
    "type(scale_test)"
   ]
  },
  {
   "cell_type": "code",
   "execution_count": 21,
   "id": "b40aa717",
   "metadata": {},
   "outputs": [
    {
     "data": {
      "image/png": "[encoded data removed]",
      "text/plain": [
       "<PIL.Image.Image image mode=L size=512x256>"
      ]
     },
     "execution_count": 21,
     "metadata": {},
     "output_type": "execute_result"
    }
   ],
   "source": [
    "scale_test"
   ]
  },
  {
   "cell_type": "code",
   "execution_count": null,
   "id": "32e16d83",
   "metadata": {},
   "outputs": [],
   "source": []
  }
 ],
 "metadata": {
  "kernelspec": {
   "display_name": "Python 3 (ipykernel)",
   "language": "python",
   "name": "python3"
  },
  "language_info": {
   "codemirror_mode": {
    "name": "ipython",
    "version": 3
   },
   "file_extension": ".py",
   "mimetype": "text/x-python",
   "name": "python",
   "nbconvert_exporter": "python",
   "pygments_lexer": "ipython3",
   "version": "3.8.13"
  }
 },
 "nbformat": 4,
 "nbformat_minor": 5
}
